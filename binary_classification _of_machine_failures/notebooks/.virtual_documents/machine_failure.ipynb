


# General imports
import re
import numpy as np
import pandas as pd
from warnings import filterwarnings
from tqdm.notebook import tqdm
from gc import collect
from IPython.display import clear_output, display, HTML
from termcolor import colored

# Configure pandas display options
pd.options.display.max_rows = 50
pd.set_option('display.float_format', '{:,.5f}'.format)

# Data processing and statistical analysis
from scipy.stats import mode, iqr, anderson, shapiro, normaltest
from statsmodels.stats.outliers_influence import variance_inflation_factor
from statsmodels.tools.tools import add_constant

# Visualization libraries and settings
import matplotlib.pyplot as plt
import seaborn as sns
from matplotlib.colors import LinearSegmentedColormap
%matplotlib inline

# Set warnings filter (to ignore warnings)
filterwarnings('ignore')



# Model imports:-

from sklearn import datasets
from sklearn.metrics import accuracy_score, balanced_accuracy_score
from sklearn.feature_selection import mutual_info_regression
from sklearn.pipeline import Pipeline, make_pipeline
from sklearn.preprocessing import FunctionTransformer, PowerTransformer, PolynomialFeatures
from sklearn.model_selection import train_test_split, KFold, GridSearchCV, cross_validate
from sklearn.preprocessing import StandardScaler, MinMaxScaler, QuantileTransformer, PowerTransformer, RobustScaler

from sklearn.dummy import DummyRegressor
from sklearn.linear_model import LogisticRegression











# Assigning global variables to be used throughout:-
target = 'Machine failure'

binary_features = ['TWF', 'HDF', 'PWF', 'OSF', 'RNF']

numerical_features = ['Air temperature [K]', 'Process temperature [K]', 'Rotational speed [rpm]', 'Torque [Nm]',  'Tool wear [min]']

grid_specs = {'visible': True, 'which': 'both', 'linestyle': '--',
              'color': 'lightgrey', 'linewidth': 0.50}

title_specs = {'fontsize': 14, 'fontweight': 'bold', 'color': 'tab:blue'}

def PrintColor(text:str, color:str = 'blue', attrs:list = ['bold', 'dark']):
    """
    Prints color outputs using termcolor-colored using a text F-string
    """
    print(colored(text, color = color, attrs = attrs))





%%time

# Importing the data:-
xytrain = pd.read_csv('../data/train.csv', encoding = 'utf8')
xtest = pd.read_csv('../data/test.csv', encoding = 'utf8')

# Displaying the datasets:-
PrintColor(f"\nTrain data\n")
display(xytrain.head(5))

PrintColor(f"\nTest data\n")
display(xtest.head(5))

PrintColor(f"\nExtracting features from Test data\n")

features = xtest.columns
display(features)

print();





PrintColor(f"\nExtracting unique records per feature from Train and Test data\n")

PrintColor(f"\nTrain data unique records\n")
display(xytrain.nunique())

PrintColor(f"\nTest data unique records\n")
display(xtest.nunique())





xytrain = xytrain.drop(['id', 'Product ID'], axis=1)
xtest = xtest.drop(['id', 'Product ID'], axis=1)


PrintColor(f'Train Data set contains {xytrain.duplicated().sum()} duplicated rows')

PrintColor(f'\nTest Data set contains {xtest.duplicated().sum()} duplicated rows\n')





xytrain = xytrain.drop_duplicates()

xtest = xtest.drop_duplicates()


PrintColor(f"\nData information - Train and Test data")

PrintColor(f"\nTrain data information\n")
display(xytrain.info())

PrintColor(f"\nTest data information\n")
display(xtest.info())








def describe_dataframes(*dataframes, percentiles, target):
    """
    Generate and display descriptive statistics for given dataframes.

    Parameters:
    - dataframes: Tuples of DataFrame and its corresponding source name.
    - percentiles: List of percentiles to calculate.
    - target: The target variable to exclude from the description.
    """
    # Initialize an empty list to hold the modified dataframes
    described_dfs = [
        df.drop(target, axis=1, errors='ignore')
        .describe(percentiles=percentiles)
        .transpose()
        .drop('count', axis=1)
        .assign(source=source)
        .reset_index()
        .set_index(['index', 'source'])
        for df, source in dataframes
    ]
    # Concatenate and display the results
    all_described = pd.concat(described_dfs).sort_index(ascending=[True, False])
    display(all_described.style.format('{:.2f}'))


percentiles = [0.01, 0.05, 0.10, 0.25, 0.50, 0.75, 0.95, 0.99]

PrintColor('\nData description - Train and Test data\n')

describe_dataframes((xytrain,'Train'),(xtest,'Test'), percentiles=percentiles, target=target)








def features_box_kde_plot(features, data, target, grid_specs=grid_specs, title_specs=title_specs):
    """
    This function makes a boxplot and a KDE plot for the Train dataset for each feature.

    Parameters:
    - features: list of feature names to plot
    - data: DataFrame containing the training data
    - grid_specs: Dictionary containing grid specifications
    - title_specs: Dictionary containing title specifications
    """
    nrows = len(features)

    fig, ax = plt.subplots(nrows=nrows, ncols=2, figsize=(12, 3 * nrows))
    
    for i, feature in enumerate(features):
        sns.boxplot(data=data, x=target, y=feature,  ax=ax[i, 0])
        ax[i, 0].set_title(f'{feature}-Machine Failure', **title_specs)
        ax[i, 0].grid(**grid_specs)
        ax[i, 0].set(xlabel='', ylabel='')

        sns.kdeplot(data=data, x=feature, ax=ax[i, 1], fill=True)
        ax[i, 1].set_title(f'{feature}', **title_specs) 
        ax[i, 1].grid(**grid_specs)
        ax[i, 1].set(xlabel='', ylabel='')

    plt.tight_layout()


%%time

features_box_kde_plot(numerical_features, xytrain, target)








def normality_test(features, data, ad_signifance_level=0.5):
    """
    Performs normality tests on given features for training and test datasets,
    and returns a DataFrame with the test results and a normality flag.

    Parameters:
    - features: List of feature names.
    - xytrain: DataFrame containing the training data.
    - xtest: DataFrame containing the test data.
    """
    # preparing the Dataframe
    normal_test_results = pd.DataFrame(columns=['Feature', 'NormalTest', 'Shapiro'])

    # performing normality test
    for col in features:
        row = {
            'Feature' : col,
            'NormalTest' : normaltest(data[col])[1],
            'Shapiro' : shapiro(data[col])[1]
        }
        normal_test_results = pd.concat([normal_test_results, pd.DataFrame([row])], ignore_index=True)

    # determing normality
    normal_test_results['Is_Normal'] = np.where(
        (normal_test_results['NormalTest'] > ad_signifance_level) |
        (normal_test_results['Shapiro'] > ad_signifance_level), 'Y', 'N'
    )
    PrintColor('\nNormality test results for Numerical Features:\n')
    display(normal_test_results.style.format(precision=2).applymap(
        lambda x: 'background-color: #FFC0CB; color: #000000; font-weight:bold' if x == 'N' else 'background-color: #90EE90; color: #000000',
        subset=['Is_Normal'])
           )
    return normal_test_results


%%time

normality_test_results = normality_test(numerical_features, xytrain)








%%time

nrows = len(numerical_features)

fig, ax = plt.subplots(nrows=nrows, ncols=2, figsize=(12, 3 * nrows))
    
for i, feature in enumerate(numerical_features):
    sns.boxplot(data=xytrain, x=feature, y='Type',  ax=ax[i, 0], palette='pastel')
    ax[i, 0].set_title(f'{feature} vs Type', **title_specs)
    ax[i, 0].grid(**grid_specs)

    sns.histplot(data=xytrain, x=feature, hue='Type', ax=ax[i, 1], palette='pastel', kde=True, multiple='stack')
    ax[i, 1].set_title(f'{feature} vs Type', **title_specs)
    ax[i, 1].grid(**grid_specs)

    plt.tight_layout()















